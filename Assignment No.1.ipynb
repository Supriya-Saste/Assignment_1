{
 "cells": [
  {
   "cell_type": "markdown",
   "id": "ec096562",
   "metadata": {},
   "source": [
    "# Assignment No.1"
   ]
  },
  {
   "cell_type": "markdown",
   "id": "ebe3ae6b",
   "metadata": {},
   "source": [
    "### 1. In the below elements which of them are values or an expression? eg:- values can be integer or string and expressions will be mathematical operators.\n",
    "\n",
    "### * \n",
    "### 'hello' \n",
    "### -87.8\n",
    "### -\n",
    "### /\n",
    "### +\n",
    "### 6"
   ]
  },
  {
   "cell_type": "markdown",
   "id": "3177ef21",
   "metadata": {},
   "source": [
    "Ans: \n",
    "    In above question values are : 'hello', -87.8 , 6\n",
    "    and mathematical operators are: *, - , /, +"
   ]
  },
  {
   "cell_type": "markdown",
   "id": "798622af",
   "metadata": {},
   "source": [
    "### 2. What is the difference between string and variable?"
   ]
  },
  {
   "cell_type": "markdown",
   "id": "937c18a8",
   "metadata": {},
   "source": [
    "Ans:\n",
    "Variable : It is used to store a value in a memory location.\n",
    "    e.g. x = 13, here x is a variable which stores the value 13.\n",
    "    \n",
    "String : It is a sequence of characters. In addition to letters, it can also include numbers, spaces, etc.\n",
    "    Anything assigned to a varible in single/double quotes is considered as string.\n",
    "    e.g. a = \"Python\""
   ]
  },
  {
   "cell_type": "markdown",
   "id": "0bab6b9d",
   "metadata": {},
   "source": [
    "### 3. Describe three different data types."
   ]
  },
  {
   "cell_type": "markdown",
   "id": "0a2b5829",
   "metadata": {},
   "source": [
    "Ans:\n",
    "    1. Numeric data type:\n",
    "    Python supports three different numeric data types : int, float, complex. All of these holds numeric values.\n",
    "    \n",
    "    2. String (str) data type:\n",
    "    It holds the sequence of characters (may contain numbers, spaces,etc) enclosed in single/double quotes.\n",
    "    e.g. x = \"python1\"\n",
    "    \n",
    "    3. List and Tuple:\n",
    "    These are sequence data types which contains collection of elements.\n",
    "    e.g. l = [1,2,'hello'] is the list data type.\n",
    "         T = (a,b,c,d) is the tuple."
   ]
  },
  {
   "cell_type": "markdown",
   "id": "c602747d",
   "metadata": {},
   "source": [
    "### 4. What is an expression made up of? What do all expressions do?"
   ]
  },
  {
   "cell_type": "markdown",
   "id": "7249355f",
   "metadata": {},
   "source": [
    "Ans:\n",
    "   1.  An expression is made up of values, variables and operators. \n",
    "    E.g. x = 2,\n",
    "    y = 1,\n",
    "    z = x+y.\n",
    "    Here, all are expressions.\n",
    "    \n",
    "   2. Expression always evalutes/calculates itself.\n",
    "    e.g. In earlier example, expression z = x+y,after evaluating itself, gives the result as 3"
   ]
  },
  {
   "cell_type": "markdown",
   "id": "9dfcd342",
   "metadata": {},
   "source": [
    "### 5. This assignment statements, like spam = 10. What is the difference between an expression and a statement?"
   ]
  },
  {
   "cell_type": "markdown",
   "id": "87e27afa",
   "metadata": {},
   "source": [
    "Ans:\n",
    "Expression:\n",
    "    1. An expression evaluates to a value.\n",
    "    2. Evaluation of an expression always produces/returns a result value.\n",
    "    3. Every expression can not be a statement.\n",
    "    4. E.g. x = 2, y = 1, z = x+y.\n",
    "    \n",
    "Statement:\n",
    "    1. Statement executes something.\n",
    "    2. Execution of a statement may or may not produce a result value. It only does whatever the statement says.\n",
    "    3. Every statement can be a expression.\n",
    "    4. E.g. x = 3\n",
    "       print(x), here print(x) is a statement, whereas x = 3 is an expression."
   ]
  },
  {
   "cell_type": "markdown",
   "id": "de515ed4",
   "metadata": {},
   "source": [
    "### 6. After running the following code, what does the variable bacon contain? \n",
    "bacon = 22\n",
    "bacon + 1"
   ]
  },
  {
   "cell_type": "markdown",
   "id": "3aeab071",
   "metadata": {},
   "source": [
    "Ans : \n",
    "After running above code, bacon contains value 23."
   ]
  },
  {
   "cell_type": "markdown",
   "id": "df618010",
   "metadata": {},
   "source": [
    "### 7. What should the values of the following two terms be?\n",
    "&#39;spam&#39; + &#39;spamspam&#39;\n",
    "&#39;spam&#39; * 3"
   ]
  },
  {
   "cell_type": "markdown",
   "id": "a35807a6",
   "metadata": {},
   "source": [
    "Ans : \n",
    "    The value of both the terms will be 'spamspamspam'"
   ]
  },
  {
   "cell_type": "markdown",
   "id": "935d7de5",
   "metadata": {},
   "source": [
    "### 8. Why is eggs a valid variable name while 100 is invalid?"
   ]
  },
  {
   "cell_type": "markdown",
   "id": "aa33708d",
   "metadata": {},
   "source": [
    "Ans:\n",
    "Since variable names can not begin with number, 100 is invalid variable name."
   ]
  },
  {
   "cell_type": "markdown",
   "id": "25de5853",
   "metadata": {},
   "source": [
    "### 9. What three functions can be used to get the integer, floating-point number, or string version of a value?"
   ]
  },
  {
   "cell_type": "code",
   "execution_count": null,
   "id": "66b00904",
   "metadata": {},
   "outputs": [],
   "source": [
    "Ans:\n",
    "    int(), float(), str() these three functions are used respectively to get the integer, float-point number and \n",
    "    string version of a value."
   ]
  },
  {
   "cell_type": "markdown",
   "id": "e5b35fdc",
   "metadata": {},
   "source": [
    "### 10. Why does this expression cause an error? How can you fix it? 'I have eaten' + 99 + 'burritos' "
   ]
  },
  {
   "cell_type": "markdown",
   "id": "20d3a860",
   "metadata": {},
   "source": [
    "Ans: \n",
    "    Here the error occurs because string concatination can only concatenate str (not \"int\") to str. So in order to \n",
    "    fix this problem we have to include 99 in single/double quotes, so that string concatination will take place."
   ]
  },
  {
   "cell_type": "code",
   "execution_count": 9,
   "id": "51d1d1da",
   "metadata": {},
   "outputs": [
    {
     "data": {
      "text/plain": [
       "'I have eaten 99 burritos'"
      ]
     },
     "execution_count": 9,
     "metadata": {},
     "output_type": "execute_result"
    }
   ],
   "source": [
    "'I have eaten' +  ' 99'  +  ' burritos'"
   ]
  }
 ],
 "metadata": {
  "kernelspec": {
   "display_name": "Python 3",
   "language": "python",
   "name": "python3"
  },
  "language_info": {
   "codemirror_mode": {
    "name": "ipython",
    "version": 3
   },
   "file_extension": ".py",
   "mimetype": "text/x-python",
   "name": "python",
   "nbconvert_exporter": "python",
   "pygments_lexer": "ipython3",
   "version": "3.8.8"
  }
 },
 "nbformat": 4,
 "nbformat_minor": 5
}
